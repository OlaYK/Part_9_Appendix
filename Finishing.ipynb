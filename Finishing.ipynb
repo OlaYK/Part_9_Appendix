{
 "cells": [
  {
   "cell_type": "code",
   "execution_count": 1,
   "id": "aaeb1294",
   "metadata": {},
   "outputs": [],
   "source": [
    "import pandas as pd "
   ]
  },
  {
   "cell_type": "code",
   "execution_count": 2,
   "id": "a26efe44",
   "metadata": {},
   "outputs": [
    {
     "data": {
      "text/plain": [
       "list"
      ]
     },
     "execution_count": 2,
     "metadata": {},
     "output_type": "execute_result"
    }
   ],
   "source": [
    "products = ['A','B','C','D']\n",
    "type (products)"
   ]
  },
  {
   "cell_type": "code",
   "execution_count": 3,
   "id": "ae80d0fe",
   "metadata": {},
   "outputs": [
    {
     "data": {
      "text/plain": [
       "0    A\n",
       "1    B\n",
       "2    C\n",
       "3    D\n",
       "dtype: object"
      ]
     },
     "execution_count": 3,
     "metadata": {},
     "output_type": "execute_result"
    }
   ],
   "source": [
    "product_categories = pd.Series(products)\n",
    "product_categories"
   ]
  },
  {
   "cell_type": "code",
   "execution_count": 4,
   "id": "dbaa898a",
   "metadata": {},
   "outputs": [
    {
     "data": {
      "text/plain": [
       "pandas.core.series.Series"
      ]
     },
     "execution_count": 4,
     "metadata": {},
     "output_type": "execute_result"
    }
   ],
   "source": [
    "type (product_categories)"
   ]
  },
  {
   "cell_type": "code",
   "execution_count": 5,
   "id": "fa3bc23a",
   "metadata": {},
   "outputs": [
    {
     "data": {
      "text/plain": [
       "0    100\n",
       "1    200\n",
       "2    300\n",
       "3    400\n",
       "dtype: int64"
      ]
     },
     "execution_count": 5,
     "metadata": {},
     "output_type": "execute_result"
    }
   ],
   "source": [
    "daily_rates_dollars = pd.Series([100,200,300,400])\n",
    "daily_rates_dollars"
   ]
  },
  {
   "cell_type": "code",
   "execution_count": 6,
   "id": "f0c5cb39",
   "metadata": {},
   "outputs": [],
   "source": [
    "import numpy as np"
   ]
  },
  {
   "cell_type": "code",
   "execution_count": 9,
   "id": "02d99d1d",
   "metadata": {},
   "outputs": [
    {
     "name": "stdout",
     "output_type": "stream",
     "text": [
      "[1 2 3 4 5]\n"
     ]
    },
    {
     "data": {
      "text/plain": [
       "numpy.ndarray"
      ]
     },
     "execution_count": 9,
     "metadata": {},
     "output_type": "execute_result"
    }
   ],
   "source": [
    "array_a = np.array([1,2,3,4,5])\n",
    "print (array_a)\n",
    "type (array_a)"
   ]
  },
  {
   "cell_type": "code",
   "execution_count": 8,
   "id": "a1f42607",
   "metadata": {},
   "outputs": [
    {
     "data": {
      "text/plain": [
       "0    1\n",
       "1    2\n",
       "2    3\n",
       "3    4\n",
       "4    5\n",
       "dtype: int64"
      ]
     },
     "execution_count": 8,
     "metadata": {},
     "output_type": "execute_result"
    }
   ],
   "source": [
    "series_a = pd.Series(array_a)\n",
    "series_a"
   ]
  },
  {
   "cell_type": "code",
   "execution_count": 11,
   "id": "dc9e5ea1",
   "metadata": {},
   "outputs": [],
   "source": [
    "start_data_deposits = pd.Series({\n",
    "    '2023-01-01':1000,\n",
    "    '2023-01-02':1500,\n",
    "    '2023-01-03':2000,\n",
    "    '2023-01-04':2500,\n",
    "    '2023-01-05':3000,\n",
    "    '2023-01-06':3500,\n",
    "    '2023-01-07':4000,\n",
    "    '2023-01-08':4500,\n",
    "    '2023-01-09':5000,\n",
    "    '2023-01-10':5500,\n",
    "    '2023-01-11':6000,\n",
    "    '2023-01-12':6500,\n",
    "    '2023-01-13':7000,\n",
    "    '2023-01-14':7500,\n",
    "    '2023-01-15':8000\n",
    "})"
   ]
  },
  {
   "cell_type": "code",
   "execution_count": 14,
   "id": "e67a73f6",
   "metadata": {},
   "outputs": [
    {
     "name": "stdout",
     "output_type": "stream",
     "text": [
      "67500 4500.0 4500.0 2236.06797749979 1000 8000 count      15.000000\n",
      "mean     4500.000000\n",
      "std      2236.067977\n",
      "min      1000.000000\n",
      "25%      2750.000000\n",
      "50%      4500.000000\n",
      "75%      6250.000000\n",
      "max      8000.000000\n",
      "dtype: float64 2023-01-15 2023-01-01\n"
     ]
    }
   ],
   "source": [
    "print (\n",
    "    start_data_deposits.sum(),\n",
    "start_data_deposits.mean(),\n",
    "start_data_deposits.median(),\n",
    "start_data_deposits.std(),\n",
    "start_data_deposits.min(),\n",
    "start_data_deposits.max(),\n",
    "start_data_deposits.describe(),\n",
    "start_data_deposits.idxmax(),\n",
    "start_data_deposits.idxmin()\n",
    ")"
   ]
  },
  {
   "cell_type": "code",
   "execution_count": null,
   "id": "99dd2074",
   "metadata": {},
   "outputs": [],
   "source": [
    "#Using iloc indexing with string index\n",
    "data = pd.read_csv('Lending-company.csv', index_col = 'StringID')"
   ]
  },
  {
   "cell_type": "code",
   "execution_count": null,
   "id": "8bdc2032",
   "metadata": {},
   "outputs": [],
   "source": []
  },
  {
   "cell_type": "code",
   "execution_count": null,
   "id": "bc42dd61",
   "metadata": {},
   "outputs": [],
   "source": []
  },
  {
   "cell_type": "code",
   "execution_count": null,
   "id": "04425139",
   "metadata": {},
   "outputs": [],
   "source": []
  },
  {
   "cell_type": "code",
   "execution_count": null,
   "id": "eecc2111",
   "metadata": {},
   "outputs": [],
   "source": []
  },
  {
   "cell_type": "code",
   "execution_count": null,
   "id": "e93e026c",
   "metadata": {},
   "outputs": [],
   "source": []
  }
 ],
 "metadata": {
  "kernelspec": {
   "display_name": "tf_env",
   "language": "python",
   "name": "python3"
  },
  "language_info": {
   "codemirror_mode": {
    "name": "ipython",
    "version": 3
   },
   "file_extension": ".py",
   "mimetype": "text/x-python",
   "name": "python",
   "nbconvert_exporter": "python",
   "pygments_lexer": "ipython3",
   "version": "3.10.18"
  }
 },
 "nbformat": 4,
 "nbformat_minor": 5
}
